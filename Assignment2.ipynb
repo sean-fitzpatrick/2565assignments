{
 "cells": [
  {
   "cell_type": "markdown",
   "id": "relevant-number",
   "metadata": {},
   "source": [
    "# Math 2565 Assignment 2\n",
    "## Arc length and surface area\n",
    "\n",
    "Let $f(x)$ be a function that is differentiable on a closed interval $[a, b]$. (For the meaning of differentiability on a closed interval, see [Section 2.1 in the textbook](https://opentext.uleth.ca/apex-accelerated/sec_derivative.html#subsection-7).)\n",
    "\n",
    "The **arc length** of the curve $y=f(x)$, for $a\\leq x\\leq b$, is given by\n",
    "\n",
    "$$L = \\int_a^b \\sqrt{1+(f'(x))^2}\\,dx.$$\n",
    "\n",
    "The argument for this formula is quite clever: we partition the interval $[a, b]$ using points\n",
    "$$x_0=a\\lt x_1 \\lt \\cdots \\lt x_n=b,$$\n",
    "and approximate the curve by the *polygonal path* passing through the points $(x_i, f(x_i))$, for $i=0,\\ldots, n$.\n",
    "\n",
    "The length of each segment is given by the distance formula:\n",
    "\n",
    "$$\\Delta L_i = \\sqrt{(x_{i+1}-x_i)^2+(f(x_{i+1})-f(x_i))^2} = \\sqrt{(\\Delta x_i)^2 + (f(x_{i+1})-f(x_i))^2} = \\Delta x_i\\sqrt{1+\\left(\\frac{f(x_{i+1}-f(x_i)}{x_{i+1}-x_i}\\right)^2}.$$\n",
    "\n",
    "Now, by the Mean Value Theorem, on each interval $[x_i,x_{i+1}]$, there exists some $c_i$ such that\n",
    "\n",
    "$$f'(c_i) = \\frac{f(x_{i+1})-f(x_i)}{x_{i+1}-x_i},$$\n",
    "\n",
    "giving us $\\Delta L_i = \\Delta x_i \\sqrt{1+(f'(c_i))^2}$. Putting this into a Riemann sum, we get our formula.\n",
    "\n",
    "The trouble is that for all but the most carefully chosen curves, the arc length formula results in an integral that is impossible to evaluate symbolically. (Have a look at the functions that appear [in the exercises for Section 7.4](https://opentext.uleth.ca/apex-accelerated/sec_arc_length.html#exercisegroup-146)!)\n",
    "\n",
    "### Problem 1\n",
    "\n",
    "The curve $y=x^2$ is usually considered to be one of the simplest examples in calculus. \n",
    "\n",
    "(a) Set up the integral to compute the arc length of $y=x^2$, for $0\\leq x\\leq 2$. Enter the result in the Markdown cell below. Enter `\\int` for an integral sign, and `\\sqrt{ }` for the square root of a function. Exponents are entered as `x^n`."
   ]
  },
  {
   "cell_type": "markdown",
   "id": "nearby-diamond",
   "metadata": {},
   "source": [
    "$$\\text{double-click to edit. delete this text and enter your equation here. keep the dollar signs}$$"
   ]
  },
  {
   "cell_type": "markdown",
   "id": "scientific-masters",
   "metadata": {},
   "source": [
    "(b) What trig substitution could you use to evaluate this integral? You don't have to do the substitution; just indicate what you would use. Trig functions can be typed as `\\sin(x)`, `\\cos(x)`, etc."
   ]
  },
  {
   "cell_type": "markdown",
   "id": "serious-windows",
   "metadata": {},
   "source": [
    "$$\\text{double-click to edit. delete this text and enter your equation here. keep the dollar signs}$$"
   ]
  },
  {
   "cell_type": "markdown",
   "id": "viral-breach",
   "metadata": {},
   "source": [
    "(c) Evaluate the integral using SymPy. You will have to enter the function before running the code."
   ]
  },
  {
   "cell_type": "code",
   "execution_count": null,
   "id": "exclusive-spectrum",
   "metadata": {},
   "outputs": [],
   "source": [
    "import sympy as sy\n",
    "f =\n",
    "f"
   ]
  },
  {
   "cell_type": "code",
   "execution_count": null,
   "id": "seasonal-definition",
   "metadata": {},
   "outputs": [],
   "source": [
    "sy.integrate(f,x)"
   ]
  },
  {
   "cell_type": "code",
   "execution_count": null,
   "id": "greatest-alliance",
   "metadata": {},
   "outputs": [],
   "source": [
    "sy.integrate(f,(x,0,4))"
   ]
  },
  {
   "cell_type": "markdown",
   "id": "related-flexibility",
   "metadata": {},
   "source": [
    "### Problem 2 \n",
    "\n",
    "Consider [problem 7.4.18 in the textbook](https://opentext.uleth.ca/apex-accelerated/sec_arc_length.html#exercise-1417), which advises you to set up, but not evaluate, the integral.\n",
    "\n",
    "(a) Set up the integral, as advised."
   ]
  },
  {
   "cell_type": "markdown",
   "id": "diagnostic-handling",
   "metadata": {},
   "source": [
    "$$\\text{double-click to edit. delete this text and enter your equation here. keep the dollar signs}$$"
   ]
  },
  {
   "cell_type": "markdown",
   "id": "processed-payday",
   "metadata": {},
   "source": [
    "(b) Try to evaluate the integral as you did in Problem 1. Attempt to compute both the definite and indefinite integrals."
   ]
  },
  {
   "cell_type": "code",
   "execution_count": null,
   "id": "optional-relaxation",
   "metadata": {},
   "outputs": [],
   "source": []
  },
  {
   "cell_type": "markdown",
   "id": "royal-identity",
   "metadata": {},
   "source": [
    "### Problem 3\n",
    "\n",
    "Review the [implementation of Simpson's Rule](https://personal.math.ubc.ca/~pwalls/math-python/integration/simpsons-rule/) given by Patrick Walls of UBC. Set things up as indicated, and then (approximately) evaluate the integral from Problem 2 using Simpson's Rule.\n",
    "\n",
    "Compare the results using 10, 50, and 100 rectangles."
   ]
  },
  {
   "cell_type": "code",
   "execution_count": null,
   "id": "corporate-dryer",
   "metadata": {},
   "outputs": [],
   "source": []
  },
  {
   "cell_type": "markdown",
   "id": "narrow-optimum",
   "metadata": {},
   "source": [
    "**Note**: it is possible that this will fail, due to the fact that $f'(x)$ is undefined at the endpoints of the interval. If this is the case, use the interval $[-2,2]$ instead of the interval $[-3,3]$."
   ]
  },
  {
   "cell_type": "code",
   "execution_count": null,
   "id": "binding-medicine",
   "metadata": {},
   "outputs": [],
   "source": []
  }
 ],
 "metadata": {
  "kernelspec": {
   "display_name": "Python 3",
   "language": "python",
   "name": "python3"
  },
  "language_info": {
   "codemirror_mode": {
    "name": "ipython",
    "version": 3
   },
   "file_extension": ".py",
   "mimetype": "text/x-python",
   "name": "python",
   "nbconvert_exporter": "python",
   "pygments_lexer": "ipython3",
   "version": "3.9.7"
  }
 },
 "nbformat": 4,
 "nbformat_minor": 5
}
