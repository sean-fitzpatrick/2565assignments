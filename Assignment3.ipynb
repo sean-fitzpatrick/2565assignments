{
 "cells": [
  {
   "cell_type": "markdown",
   "id": "stuck-wilderness",
   "metadata": {},
   "source": [
    "# Assignment 3\n",
    "## Math 2565\n",
    "### University of Lethbridge\n",
    "### March 28, 2021. (Due April 4th at 11:59 pm)\n",
    "\n",
    "In this assignment we explore differential equations. You will want to revisit the Jupyter notebook used for the classes prior to the strike, where you will find examples with Python code for solving some of the problems below.\n",
    "\n",
    "You are welcome to be creative and come up with your own code for solving these problems. In particular, the SciPy (Scientific Python) library has a number of useful functions for handling differential equations. But make sure that you are using the correct algorithm. (In particular, if the question says to use Euler's method, make sure that's what you're using. Most numerical algorithms that are used in practice are more sophisticated."
   ]
  },
  {
   "cell_type": "markdown",
   "id": "wrapped-delhi",
   "metadata": {},
   "source": [
    "### Problem 1: Slope fields.\n",
    "\n",
    "Plot the slope fields (a.k.a. direction fields) for each differential equation below. In the same plot, include solution curves for at least two choices of initial condition.\n",
    "\n",
    "Comment on your results. (Be sure to indicate what the initial conditions are in each case.)\n",
    "\n",
    "a) $y'=x\\sin(y)$\n",
    "\n",
    "b) $y'+\\dfrac{xy}{1+x^2}=0$"
   ]
  },
  {
   "cell_type": "code",
   "execution_count": null,
   "id": "comfortable-hacker",
   "metadata": {},
   "outputs": [],
   "source": []
  },
  {
   "cell_type": "markdown",
   "id": "prescribed-assignment",
   "metadata": {},
   "source": [
    "### Problem 2: Solution methods\n",
    "\n",
    "For each differential equation in Problem 1, indicate whether the equation is separable, linear, neither, or both.\n",
    "\n",
    "Then, solve the differential equation using the methods from Chapter 8.\n",
    "\n",
    "You may wish to do this problem on paper rather than in the notebook."
   ]
  },
  {
   "cell_type": "code",
   "execution_count": null,
   "id": "indoor-mitchell",
   "metadata": {},
   "outputs": [],
   "source": []
  },
  {
   "cell_type": "markdown",
   "id": "stuck-rental",
   "metadata": {},
   "source": [
    "### Problem 3: Euler's method\n",
    "\n",
    "For each differential equation in Problem 1:\n",
    "\n",
    "a) Using the initial condition $y(0)=1$, solve the corresponding initial value problem, using your results from Problem 2.\n",
    "\n",
    "b) For the same initial condition, use Euler's method to compute an approximate solution on the interval $[0,1]$, with 20 steps.\n",
    "\n",
    "c) Create a plot that compares the exact solution from part (a) with the approximate solution from part (b). Comment on the results."
   ]
  },
  {
   "cell_type": "code",
   "execution_count": null,
   "id": "saving-trinity",
   "metadata": {},
   "outputs": [],
   "source": []
  }
 ],
 "metadata": {
  "kernelspec": {
   "display_name": "Python 3",
   "language": "python",
   "name": "python3"
  },
  "language_info": {
   "codemirror_mode": {
    "name": "ipython",
    "version": 3
   },
   "file_extension": ".py",
   "mimetype": "text/x-python",
   "name": "python",
   "nbconvert_exporter": "python",
   "pygments_lexer": "ipython3",
   "version": "3.9.7"
  }
 },
 "nbformat": 4,
 "nbformat_minor": 5
}
